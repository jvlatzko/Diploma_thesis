{
 "cells": [
  {
   "cell_type": "markdown",
   "metadata": {},
   "source": [
    "# Initial set of functions"
   ]
  },
  {
   "cell_type": "code",
   "execution_count": 1,
   "metadata": {
    "collapsed": true
   },
   "outputs": [],
   "source": [
    "import numpy as np\n",
    "import matplotlib.pyplot as plt\n",
    "from skimage.restoration import denoise_tv_chambolle\n",
    "plt.viridis()\n",
    "%matplotlib inline\n",
    "\n",
    "\n",
    "def lorentzian(Img, s = 50):\n",
    "    return np.log(1.0 + s * Img**2)\n",
    "\n",
    "def lorentzianLoss(Img, Ground, s = 50): \n",
    "    tImg = Img - Ground; \n",
    "    tImg -= np.mean(tImg); \n",
    "    return np.mean(np.log(1.0 + s*(tImg)**2))\n",
    "\n",
    "def getVal(default):\n",
    "    r = input().strip()\n",
    "    if r == '':\n",
    "        return default\n",
    "    else:\n",
    "        return r"
   ]
  },
  {
   "cell_type": "code",
   "execution_count": 2,
   "metadata": {
    "collapsed": false
   },
   "outputs": [],
   "source": [
    "def getScenes(fname):\n",
    "    if (fname.find(\"rain\") > 0):\n",
    "        scenes = [line.strip() for line in open(dataPath + \"train.txt\", 'r')]\n",
    "    elif (fname.find(\"est\") > 0):\n",
    "        scenes = [line.strip() for line in open(dataPath + \"trueTest.txt\", 'r')]\n",
    "    elif (fname.find(\"idation\") > 0): \n",
    "        scenes = [line.strip() for line in open(dataPath + \"test.txt\", 'r')]\n",
    "    else: \n",
    "        print(\"Either training set or test set should be chosen.\")\n",
    "        raise ValueError(\"Noncompliant input: must be \\\"Train\\\" or \\\"Test\\\"\") \n",
    "    print(\"%i scenes\"%len(scenes))\n",
    "    return scenes; \n",
    "\n",
    "\n",
    "def readTrainResults(rtf_descriptor, scene_name):\n",
    "    groundTruth = np.loadtxt(\"%s/labels/%s.dlm\"(dataPath, scene_name), delimiter='\\t')\n",
    "    allInputRTF = np.loadtxt(\"%s/images/%s.dlm\"(dataPath, scene_name), delimiter='\\t')\n",
    "    inputRTF = allInputRTF[:, 8:1800:9]    # INPUT DONE (depth only)\n",
    "    n = rtf_descriptor[\"name\"]; c = rtf_descriptor[\"conn\"]; d = rtf_descriptor[\"depth\"]; \n",
    "    outputRTF = np.loadtxt(\"%s/%s RTFTrainedForMyLorentzian_%dx%d_%d.dlm\"%(n, scene_name, c, c, d), delimiter='\\t')\n",
    "    return groundTruth, inputRTF, outputRTF\n",
    "\n",
    "def readResults(rtf_descriptor, scene_name, cascadeSwitch = False):\n",
    "    if (cascadeSwitch): \n",
    "        tname = \"%s_2\"%rtf_descriptor[\"name\"]\n",
    "    else: \n",
    "        tname = rtf_descriptor[\"name\"]; \n",
    "    \n",
    "    if (scene_name in testSet[\"scenes\"]): \n",
    "        tname = \"%s_test\"%tname\n",
    "    groundTruth = np.loadtxt(\"%s/%s Ground.dlm\"%(tname, scene_name), delimiter='\\t')\n",
    "    # GT DONE\n",
    "    allInputRTF = np.loadtxt(\"%s/%s Input.dlm\"%(tname, scene_name), delimiter='\\t') \n",
    "    inputRTF = allInputRTF[:, 8:1800:9]\n",
    "    # INPUT DONE (depth only)\n",
    "    outputRTF = np.loadtxt(\"%s/%s Prediction.dlm\"%(tname, scene_name), delimiter='\\t')\n",
    "    #OUTPUT DONE    \n",
    "    return groundTruth, inputRTF, outputRTF"
   ]
  },
  {
   "cell_type": "code",
   "execution_count": 3,
   "metadata": {
    "collapsed": false
   },
   "outputs": [],
   "source": [
    "# only RTF predictions are considered here. Training data are not loaded, but the change is trivial, if needed\n",
    "def visualizeScene(rtf_descriptor, sceneName, cascadeConfig = False, deltaSwitch = True):\n",
    "    if (not rtf_descriptor[\"cascade\"].isdecimal() and cascadeConfig):\n",
    "        print(\"RTF not configured for cascade opertaion. Terminating.\")\n",
    "        return None; \n",
    "    GT, iRTF, oRTF = readResults(rtf_descriptor, sceneName); \n",
    "    vmin, vmax = np.min(GT), np.max(GT); \n",
    "    if ( not cascadeConfig): \n",
    "        plt.figure(figsize=(14,3)); \n",
    "        plt.subplot(131); plt.imshow(iRTF, interpolation='nearest', vmin=vmin, vmax=vmax); plt.title(\"Baseline (%s)\"%float('%.5g' %lorentzianLoss(iRTF, GT)) ); plt.colorbar(); plt.axis('off')\n",
    "        plt.subplot(132); plt.imshow(oRTF, interpolation='nearest', vmin=vmin, vmax=vmax); plt.title(\"Prediction RTF (%s)\"%float('%.5g' % lorentzianLoss(oRTF, GT)) ); plt.colorbar(); plt.axis('off')\n",
    "        plt.subplot(133); plt.imshow(GT, interpolation='nearest', vmin=vmin, vmax=vmax); plt.title(\"Ground Truth %s\"%sceneName); plt.colorbar(); plt.axis('off')\n",
    "        if( deltaSwitch): \n",
    "            plt.figure(figsize=(14,3)); \n",
    "            deltaIn = iRTF - GT; deltaIn -= np.mean(deltaIn); deltaIn = lorentzian(deltaIn); \n",
    "            deltaOut = oRTF - GT; deltaOut -= np.mean(deltaOut); deltaOut = lorentzian(deltaOut); \n",
    "            improv = deltaOut - deltaIn; vmindel = np.min(improv); vmaxdel = np.max(improv); \n",
    "            vmin, vmax = np.min((np.min(deltaIn), np.min(deltaOut))), np.max((np.max(deltaIn), np.max(deltaOut))); \n",
    "            plt.subplot(131); plt.imshow(deltaIn, interpolation='nearest', vmin=vmin, vmax=vmax); plt.title(\"Loss Baseline\"); plt.colorbar(); plt.axis('off')\n",
    "            plt.subplot(132); plt.imshow(deltaOut, interpolation='nearest', vmin=vmin, vmax=vmax); plt.title(\"Loss Prediction\"); plt.colorbar(); plt.axis('off')\n",
    "            plt.subplot(133); plt.imshow(improv, interpolation='nearest', vmin = vmindel, vmax = vmaxdel); plt.title(\"Difference\"); plt.colorbar(); plt.axis('off')\n",
    "    else: \n",
    "        GTc, iRTFc, oRTFc = readResults(rtf_descriptor, sceneName, cascadeSwitch = True);\n",
    "        plt.figure(figsize=(14,10)); \n",
    "        vmin, vmax = np.min(GTc), np.max(GTc); \n",
    "        plt.subplot(221); plt.imshow(iRTF, interpolation='nearest', vmin=vmin, vmax=vmax); plt.axis('off'); plt.title(\"Baseline (%s)\"%float('%.5g' % lorentzianLoss(iRTF, GT)) ); plt.colorbar(); \n",
    "        plt.subplot(222); plt.imshow(GT, interpolation='nearest', vmin=vmin, vmax=vmax); plt.axis('off'); plt.title(\"Ground Truth %s\"%sceneName); plt.colorbar(); \n",
    "        plt.subplot(223); plt.imshow(oRTF, interpolation='nearest', vmin=vmin, vmax=vmax); plt.axis('off'); plt.title(\"Prediction RTF (%s)\"%float('%.5g' % lorentzianLoss(oRTF, GT)) ); plt.colorbar();\n",
    "        plt.subplot(224); plt.imshow(oRTFc, interpolation='nearest', vmin=vmin, vmax=vmax); plt.axis('off'); plt.title(\"Prediction Cascade (%s)\"%float('%.5g' % lorentzianLoss(oRTFc, GT)) ); plt.colorbar(); \n",
    "        if (deltaSwitch):\n",
    "            plt.figure(figsize=(14,10)); \n",
    "            deltaIn = iRTFc - GTc; deltaIn -= np.mean(deltaIn); deltaIn = lorentzian(deltaIn); \n",
    "            deltaOut = oRTF - GT; deltaIn -= np.mean(deltaOut); deltaOut = lorentzian(deltaOut)\n",
    "            deltaOutc = oRTFc - GTc; deltaOutc -= np.mean(deltaOutc); deltaOutc = lorentzian(deltaOutc); \n",
    "            improv = deltaOut - deltaIn; vmindel = np.min(improv); vmaxdel = np.max(improv); \n",
    "            improvc = deltaOutc - deltaIn; vmindelc = np.min(improvc); vmaxdelc = np.max(improvc); \n",
    "            vmin, vmax = np.min((np.min(deltaIn), np.min(deltaOut), np.min(deltaOutc))), np.max((np.max(deltaIn), np.max(deltaOut), np.max(deltaOutc))); \n",
    "            plt.subplot(221); plt.imshow(deltaIn, interpolation='nearest', vmin=vmin, vmax=vmax); plt.title(\"Loss Baseline\"); plt.colorbar(); plt.axis('off')\n",
    "            plt.subplot(222); plt.imshow(deltaOut, interpolation='nearest', vmin=vmin, vmax=vmax); plt.title(\"Loss Prediction\"); plt.colorbar(); plt.axis('off')\n",
    "            plt.subplot(223); plt.imshow(improvc, interpolation='nearest', vmin=vmindel, vmax=vmaxdel); plt.title(\"Difference\"); plt.colorbar(); plt.axis('off')\n",
    "            plt.subplot(224); plt.imshow(deltaOutc, interpolation='nearest', vmin=vmin, vmax=vmax); plt.title(\"Loss Cascade\"); plt.colorbar(); plt.axis('off')\n",
    "    plt.show() "
   ]
  },
  {
   "cell_type": "code",
   "execution_count": 4,
   "metadata": {
    "collapsed": true
   },
   "outputs": [],
   "source": [
    "def saveScene(rtfexp_name, conn, depth, sceneName, deltaSwitch = True):\n",
    "    GT, iRTF, oRTF = readResults(rtf_descriptor, sceneName); \n",
    "    vmin, vmax = np.min(GT), np.max(GT); \n",
    "    if ( not cascadeConfig): \n",
    "        plt.figure(figsize=(14,3)); \n",
    "        plt.subplot(131); plt.imshow(iRTF, interpolation='nearest', vmin=vmin, vmax=vmax); plt.title(\"Baseline (%s)\"%float('%.5g' %lorentzianLoss(iRTF, GT)) ); plt.colorbar(); plt.axis('off')\n",
    "        plt.subplot(132); plt.imshow(oRTF, interpolation='nearest', vmin=vmin, vmax=vmax); plt.title(\"Prediction RTF (%s)\"%float('%.5g' % lorentzianLoss(oRTF, GT)) ); plt.colorbar(); plt.axis('off')\n",
    "        plt.subplot(133); plt.imshow(GT, interpolation='nearest', vmin=vmin, vmax=vmax); plt.title(\"Ground Truth %s\"%sceneName); plt.colorbar(); plt.axis('off')\n",
    "        plt.savefig('%s_RTF.png'%sceneName, bbox_inches='tight')\n",
    "        if( deltaSwitch): \n",
    "            plt.figure(figsize=(14,3)); \n",
    "            deltaIn = iRTF - GT; deltaIn -= np.mean(deltaIn); deltaIn = lorentzian(deltaIn); \n",
    "            deltaOut = oRTF - GT; deltaOut -= np.mean(deltaOut); deltaOut = lorentzian(deltaOut); \n",
    "            improv = deltaOut - deltaIn; vmindel = np.min(improv); vmaxdel = np.max(improv); \n",
    "            vmin, vmax = np.min((np.min(deltaIn), np.min(deltaOut))), np.max((np.max(deltaIn), np.max(deltaOut))); \n",
    "            plt.subplot(131); plt.imshow(deltaIn, interpolation='nearest', vmin=vmin, vmax=vmax); plt.title(\"Loss Baseline\"); plt.colorbar(); plt.axis('off')\n",
    "            plt.subplot(132); plt.imshow(deltaOut, interpolation='nearest', vmin=vmin, vmax=vmax); plt.title(\"Loss Prediction\"); plt.colorbar(); plt.axis('off')\n",
    "            plt.subplot(133); plt.imshow(improv, interpolation='nearest', vmin = vmindel, vmax = vmaxdel); plt.title(\"Difference\"); plt.colorbar(); plt.axis('off')\n",
    "            plt.savefig('%s_RTF_delta.png'%sceneName, bbox_inches='tight')\n",
    "    else: \n",
    "        GTc, iRTFc, oRTFc = readResults(rtf_descriptor, sceneName, cascadeSwitch = True);\n",
    "        plt.figure(figsize=(14,10)); \n",
    "        vmin, vmax = np.min(GTc), np.max(GTc); \n",
    "        plt.subplot(221); plt.imshow(iRTF, interpolation='nearest', vmin=vmin, vmax=vmax); plt.axis('off'); plt.title(\"Baseline (%s)\"%float('%.5g' % lorentzianLoss(iRTF, GT)) ); plt.colorbar(); \n",
    "        plt.subplot(222); plt.imshow(GT, interpolation='nearest', vmin=vmin, vmax=vmax); plt.axis('off'); plt.title(\"Ground Truth %s\"%sceneName); plt.colorbar(); \n",
    "        plt.subplot(223); plt.imshow(oRTF, interpolation='nearest', vmin=vmin, vmax=vmax); plt.axis('off'); plt.title(\"Prediction RTF (%s)\"%float('%.5g' % lorentzianLoss(oRTF, GT)) ); plt.colorbar();\n",
    "        plt.subplot(224); plt.imshow(oRTFc, interpolation='nearest', vmin=vmin, vmax=vmax); plt.axis('off'); plt.title(\"Prediction Cascade (%s)\"%float('%.5g' % lorentzianLoss(oRTFc, GT)) ); plt.colorbar(); \n",
    "        plt.savefig('%s_RTF_cascade.png'%sceneName, bbox_inches='tight')\n",
    "        if (deltaSwitch):\n",
    "            plt.figure(figsize=(14,10)); \n",
    "            deltaIn = iRTFc - GTc; deltaIn -= np.mean(deltaIn); deltaIn = lorentzian(deltaIn); \n",
    "            deltaOut = oRTF - GT; deltaIn -= np.mean(deltaOut); deltaOut = lorentzian(deltaOut)\n",
    "            deltaOutc = oRTFc - GTc; deltaOutc -= np.mean(deltaOutc); deltaOutc = lorentzian(deltaOutc); \n",
    "            improv = deltaOut - deltaIn; vmindel = np.min(improv); vmaxdel = np.max(improv); \n",
    "            improvc = deltaOutc - deltaIn; vmindelc = np.min(improvc); vmaxdelc = np.max(improvc); \n",
    "            vmin, vmax = np.min((np.min(deltaIn), np.min(deltaOut), np.min(deltaOutc))), np.max((np.max(deltaIn), np.max(deltaOut), np.max(deltaOutc))); \n",
    "            plt.subplot(221); plt.imshow(deltaIn, interpolation='nearest', vmin=vmin, vmax=vmax); plt.title(\"Loss Baseline\"); plt.colorbar(); plt.axis('off')\n",
    "            plt.subplot(222); plt.imshow(deltaOut, interpolation='nearest', vmin=vmin, vmax=vmax); plt.title(\"Loss Prediction\"); plt.colorbar(); plt.axis('off')\n",
    "            plt.subplot(223); plt.imshow(improvc, interpolation='nearest', vmin=vmindel, vmax=vmaxdel); plt.title(\"Difference\"); plt.colorbar(); plt.axis('off')\n",
    "            plt.subplot(224); plt.imshow(deltaOutc, interpolation='nearest', vmin=vmin, vmax=vmax); plt.title(\"Loss Cascade\"); plt.colorbar(); plt.axis('off')\n",
    "            plt.savefig('%s_RTF_cascade_delta.png'%sceneName, bbox_inches='tight')\n",
    "    plt.close(); "
   ]
  },
  {
   "cell_type": "code",
   "execution_count": 5,
   "metadata": {
    "collapsed": true
   },
   "outputs": [],
   "source": [
    "def compareWithTV(rtf_descriptor, sceneName, weight, cascadeConfig = False): \n",
    "    if (not rtf_descriptor[\"cascade\"].isdecimal() and cascadeConfig):\n",
    "        print(\"RTF not configured for cascade opertaion. Terminating.\")\n",
    "        return None; \n",
    "    GT, iRTF, oRTF = readResults(rtf_descriptor, sceneName); \n",
    "    Dd_tv = denoise_tv_chambolle(iRTF, weight, multichannel=False); \n",
    "    plt.figure(figsize=(14,10)); \n",
    "    plt.subplot(221); plt.imshow(iRTF, interpolation='nearest'); plt.title(\"Baseline (%s)\"%float('%.5g' %lorentzianLoss(iRTF, GT)) ); plt.colorbar(); plt.axis('off')\n",
    "    plt.subplot(222); plt.imshow(GT, interpolation='nearest'); plt.title(\"Ground Truth %s\"%sceneName); plt.colorbar(); plt.axis('off')\n",
    "    plt.subplot(223); plt.imshow(Dd_tv, interpolation='nearest'); plt.title(\"Total Variation %s (%s)\"%(weight, float('%.5g' %lorentzianLoss(Dd_tv, GT))) ); plt.colorbar(); plt.axis('off'); \n",
    "    if cascadeConfig:\n",
    "        GTc, iRTFc, oRTFc = readResults(rtf_descriptor, sceneName, cascadeSwitch = True);\n",
    "        plt.subplot(224); plt.imshow(oRTF, interpolation='nearest'); plt.title(\"Prediction Cascade (%s)\"%float('%.5g' % lorentzianLoss(oRTFc, GT)) ); plt.colorbar(); plt.axis('off')\n",
    "    else: \n",
    "        plt.subplot(224); plt.imshow(oRTF, interpolation='nearest'); plt.title(\"Prediction RTF (%s)\"%float('%.5g' % lorentzianLoss(oRTF, GT)) ); plt.colorbar(); plt.axis('off')\n",
    "    plt.show()"
   ]
  },
  {
   "cell_type": "code",
   "execution_count": 6,
   "metadata": {
    "collapsed": false
   },
   "outputs": [],
   "source": [
    "def writeStats(rtf_descriptor, setType, S): \n",
    "    n = rtf_descriptor[\"name\"]; c = rtf_descriptor[\"conn\"]; d = rtf_descriptor[\"depth\"]; \n",
    "    nameStr = \"%s/Evaluation_Results_RTFTrainedForMyLorentzian_%dx%d_%d_%s.txt\"%(n, c, c, d, setType)\n",
    "    np.savetxt(nameStr, S, delimiter='\\t', fmt='%.8f'); \n",
    "\n",
    "def evaluateScenes(rtf_descriptor, sceneSet): \n",
    "    totalLoss = []; totalFormLoss = []; totalLossC = []; N = len(sceneSet[\"scenes\"]); \n",
    "    scKind = sceneSet[\"type\"]; testsetType = scKind == \"Test\"; \n",
    "    cascConfig = rtf_descriptor[\"cascade\"].isdecimal(); \n",
    "    print(\"Number of scenes: %d. Type of set: %s\"%(N, scKind))\n",
    "    S = np.zeros((2 + N, 3)) \n",
    "    ii = 2; \n",
    "    for scene in sceneSet[\"scenes\"]:\n",
    "        GT, iRTF, oRTF = readResults(rtf_descriptor, scene); \n",
    "        currLoss = lorentzianLoss(GT, oRTF); \n",
    "        formLoss = lorentzianLoss(GT, iRTF);\n",
    "        totalLoss.append(currLoss); \n",
    "        totalFormLoss.append(formLoss); \n",
    "        S[ii, 0:2] = [formLoss, currLoss]\n",
    "        if (cascConfig): \n",
    "            GT, iRTF, oRTFc = readResults(rtf_descriptor, scene, cascConfig); \n",
    "            currLossC = lorentzianLoss(GT, oRTFc); \n",
    "            totalLossC.append(currLossC); \n",
    "            S[ii, 2] = currLossC; \n",
    "            diffIm1 = oRTF - oRTFc; \n",
    "            #saveScene(rtfexp_name, conn, depth, scene, True)\n",
    "            #saveCascadeComparison(scene, rtfexp_name, conn, depth); \n",
    "        ii += 1; \n",
    "    print(\"%s total loss: before @ %.5f, after @ %.5f\"%(rtf_descriptor[\"name\"], np.mean(totalFormLoss), np.mean(totalLoss)))\n",
    "    S[0, 0] = np.mean(totalFormLoss); S[0,1] = np.mean(totalLoss);\n",
    "    if (cascConfig):\n",
    "        print(\"After cascade: @ %.5f\"%np.mean(totalLossC)); \n",
    "        S[0, 2] = np.mean(totalLossC)\n",
    "    return S"
   ]
  },
  {
   "cell_type": "markdown",
   "metadata": {},
   "source": [
    "# Starting work now"
   ]
  },
  {
   "cell_type": "code",
   "execution_count": 8,
   "metadata": {
    "collapsed": false
   },
   "outputs": [
    {
     "name": "stdout",
     "output_type": "stream",
     "text": [
      "Please enter path to data: [/Users/jvlatzko/Dropbox/Uni/Diplomarbeit/depth_data]\n",
      "/Users/jvlatzko/Dropbox/Uni/Diplomarbeit/depth_data/\n",
      "Folder of RTF prediction location [RTF_on_wellSepSets/]\n",
      "/Users/jvlatzko/Dropbox/Uni/Diplomarbeit/RTF_on_wellSepSets/\n"
     ]
    },
    {
     "ename": "FileNotFoundError",
     "evalue": "[Errno 2] No such file or directory: '/Users/jvlatzko/Dropbox/Uni/Diplomarbeit/depth_data/train.txt'",
     "output_type": "error",
     "traceback": [
      "\u001b[0;31m---------------------------------------------------------------------------\u001b[0m",
      "\u001b[0;31mFileNotFoundError\u001b[0m                         Traceback (most recent call last)",
      "\u001b[0;32m<ipython-input-8-50ea0a8f2ff1>\u001b[0m in \u001b[0;36m<module>\u001b[0;34m()\u001b[0m\n\u001b[1;32m      7\u001b[0m \u001b[0;34m\u001b[0m\u001b[0m\n\u001b[1;32m      8\u001b[0m \u001b[0mtrainSet\u001b[0m\u001b[0;34m[\u001b[0m\u001b[0;34m\"type\"\u001b[0m\u001b[0;34m]\u001b[0m \u001b[0;34m=\u001b[0m \u001b[0;34m\"Train\"\u001b[0m\u001b[0;34m;\u001b[0m \u001b[0mvalidationSet\u001b[0m\u001b[0;34m[\u001b[0m\u001b[0;34m\"type\"\u001b[0m\u001b[0;34m]\u001b[0m \u001b[0;34m=\u001b[0m \u001b[0;34m\"Validation\"\u001b[0m\u001b[0;34m;\u001b[0m \u001b[0mtestSet\u001b[0m\u001b[0;34m[\u001b[0m\u001b[0;34m\"type\"\u001b[0m\u001b[0;34m]\u001b[0m \u001b[0;34m=\u001b[0m \u001b[0;34m\"Test\"\u001b[0m\u001b[0;34m;\u001b[0m\u001b[0;34m\u001b[0m\u001b[0m\n\u001b[0;32m----> 9\u001b[0;31m \u001b[0mtrainSet\u001b[0m\u001b[0;34m[\u001b[0m\u001b[0;34m\"scenes\"\u001b[0m\u001b[0;34m]\u001b[0m \u001b[0;34m=\u001b[0m \u001b[0mgetScenes\u001b[0m\u001b[0;34m(\u001b[0m\u001b[0;34m\"Train\"\u001b[0m\u001b[0;34m)\u001b[0m\u001b[0;34m\u001b[0m\u001b[0m\n\u001b[0m\u001b[1;32m     10\u001b[0m \u001b[0mvalidationSet\u001b[0m\u001b[0;34m[\u001b[0m\u001b[0;34m\"scenes\"\u001b[0m\u001b[0;34m]\u001b[0m  \u001b[0;34m=\u001b[0m \u001b[0mgetScenes\u001b[0m\u001b[0;34m(\u001b[0m\u001b[0;34m\"Validation\"\u001b[0m\u001b[0;34m)\u001b[0m\u001b[0;34m\u001b[0m\u001b[0m\n\u001b[1;32m     11\u001b[0m \u001b[0mtestSet\u001b[0m\u001b[0;34m[\u001b[0m\u001b[0;34m\"scenes\"\u001b[0m\u001b[0;34m]\u001b[0m \u001b[0;34m=\u001b[0m \u001b[0mgetScenes\u001b[0m\u001b[0;34m(\u001b[0m\u001b[0;34m\"Test\"\u001b[0m\u001b[0;34m)\u001b[0m\u001b[0;34m\u001b[0m\u001b[0m\n",
      "\u001b[0;32m<ipython-input-2-ed00b9487b84>\u001b[0m in \u001b[0;36mgetScenes\u001b[0;34m(fname)\u001b[0m\n\u001b[1;32m      1\u001b[0m \u001b[0;32mdef\u001b[0m \u001b[0mgetScenes\u001b[0m\u001b[0;34m(\u001b[0m\u001b[0mfname\u001b[0m\u001b[0;34m)\u001b[0m\u001b[0;34m:\u001b[0m\u001b[0;34m\u001b[0m\u001b[0m\n\u001b[1;32m      2\u001b[0m     \u001b[0;32mif\u001b[0m \u001b[0;34m(\u001b[0m\u001b[0mfname\u001b[0m\u001b[0;34m.\u001b[0m\u001b[0mfind\u001b[0m\u001b[0;34m(\u001b[0m\u001b[0;34m\"rain\"\u001b[0m\u001b[0;34m)\u001b[0m \u001b[0;34m>\u001b[0m \u001b[0;36m0\u001b[0m\u001b[0;34m)\u001b[0m\u001b[0;34m:\u001b[0m\u001b[0;34m\u001b[0m\u001b[0m\n\u001b[0;32m----> 3\u001b[0;31m         \u001b[0mscenes\u001b[0m \u001b[0;34m=\u001b[0m \u001b[0;34m[\u001b[0m\u001b[0mline\u001b[0m\u001b[0;34m.\u001b[0m\u001b[0mstrip\u001b[0m\u001b[0;34m(\u001b[0m\u001b[0;34m)\u001b[0m \u001b[0;32mfor\u001b[0m \u001b[0mline\u001b[0m \u001b[0;32min\u001b[0m \u001b[0mopen\u001b[0m\u001b[0;34m(\u001b[0m\u001b[0mdataPath\u001b[0m \u001b[0;34m+\u001b[0m \u001b[0;34m\"train.txt\"\u001b[0m\u001b[0;34m,\u001b[0m \u001b[0;34m'r'\u001b[0m\u001b[0;34m)\u001b[0m\u001b[0;34m]\u001b[0m\u001b[0;34m\u001b[0m\u001b[0m\n\u001b[0m\u001b[1;32m      4\u001b[0m     \u001b[0;32melif\u001b[0m \u001b[0;34m(\u001b[0m\u001b[0mfname\u001b[0m\u001b[0;34m.\u001b[0m\u001b[0mfind\u001b[0m\u001b[0;34m(\u001b[0m\u001b[0;34m\"est\"\u001b[0m\u001b[0;34m)\u001b[0m \u001b[0;34m>\u001b[0m \u001b[0;36m0\u001b[0m\u001b[0;34m)\u001b[0m\u001b[0;34m:\u001b[0m\u001b[0;34m\u001b[0m\u001b[0m\n\u001b[1;32m      5\u001b[0m         \u001b[0mscenes\u001b[0m \u001b[0;34m=\u001b[0m \u001b[0;34m[\u001b[0m\u001b[0mline\u001b[0m\u001b[0;34m.\u001b[0m\u001b[0mstrip\u001b[0m\u001b[0;34m(\u001b[0m\u001b[0;34m)\u001b[0m \u001b[0;32mfor\u001b[0m \u001b[0mline\u001b[0m \u001b[0;32min\u001b[0m \u001b[0mopen\u001b[0m\u001b[0;34m(\u001b[0m\u001b[0mdataPath\u001b[0m \u001b[0;34m+\u001b[0m \u001b[0;34m\"trueTest.txt\"\u001b[0m\u001b[0;34m,\u001b[0m \u001b[0;34m'r'\u001b[0m\u001b[0;34m)\u001b[0m\u001b[0;34m]\u001b[0m\u001b[0;34m\u001b[0m\u001b[0m\n",
      "\u001b[0;31mFileNotFoundError\u001b[0m: [Errno 2] No such file or directory: '/Users/jvlatzko/Dropbox/Uni/Diplomarbeit/depth_data/train.txt'"
     ]
    }
   ],
   "source": [
    "print(\"Please enter path to data: [/Users/jvlatzko/Dropbox/Uni/Diplomarbeit/depth_data]\")\n",
    "dataPath = getVal(\"depth_data/ToF-data/wholeset/\")\n",
    "print(\"Folder of RTF prediction location [RTF_on_wellSepSets/]\")\n",
    "prescript = getVal(\"RTF_on_wellSepSets/\"); \n",
    "\n",
    "trainSet, validationSet, testSet = {}, {}, {}; \n",
    "\n",
    "trainSet[\"type\"] = \"Train\"; validationSet[\"type\"] = \"Validation\"; testSet[\"type\"] = \"Test\"; \n",
    "trainSet[\"scenes\"] = getScenes(\"Train\")\n",
    "validationSet[\"scenes\"]  = getScenes(\"Validation\")\n",
    "testSet[\"scenes\"] = getScenes(\"Test\")"
   ]
  },
  {
   "cell_type": "code",
   "execution_count": null,
   "metadata": {
    "collapsed": false
   },
   "outputs": [],
   "source": [
    "rtf_descriptor = {}; \n",
    "defaultConn = 3; dC = defaultConn; \n",
    "defaultDepth = 13; dD = defaultDepth; \n",
    "defaultCascade = \"\"; dCa = defaultCascade; \n",
    "print(\"\"\"Enter RTF experiment name, connectivity and depth (separate by return) \n",
    "      [%dx%d_%d, %d, %d]\"\"\"%(dC, dC, dD, dC, dD))\n",
    "#RTF_experiment, RTF_connectivity, RTF_depth = getVal(\"3x3_13\"), int(getVal(\"%d\"%dC)), int(getVal(\"%d\"%dD)), int(getVa) ; \n",
    "rtf_descriptor[\"name\"], rtf_descriptor[\"conn\"], rtf_descriptor[\"dep\"] = getVal(\"3x3_13\"), int(getVal(\"%d\"%dC)), int(getVal(\"%d\"%dD)) \n",
    "\n",
    "print(\"For cascaded configuration, enter stackdepth ['']\")\n",
    "rtf_descriptor[\"cascade\"] = getVal(\"%s\"%dCa); \n",
    "\n",
    "rtf_descriptor[\"name\"] = prescript + rtf_descriptor[\"name\"]"
   ]
  },
  {
   "cell_type": "code",
   "execution_count": null,
   "metadata": {
    "collapsed": false
   },
   "outputs": [],
   "source": [
    "rtf_descriptor"
   ]
  },
  {
   "cell_type": "code",
   "execution_count": null,
   "metadata": {
    "collapsed": false
   },
   "outputs": [],
   "source": [
    "## does not work on Mac, data not available \n",
    "#Strain = evaluateScenes(rtf_descriptor, trainSet)\n",
    "#writeStats(rtf_descriptor, \"train\", Strain)"
   ]
  },
  {
   "cell_type": "code",
   "execution_count": null,
   "metadata": {
    "collapsed": false
   },
   "outputs": [],
   "source": [
    "SvalC = evaluateScenes(rtf_descriptor, validationSet)"
   ]
  },
  {
   "cell_type": "code",
   "execution_count": null,
   "metadata": {
    "collapsed": false
   },
   "outputs": [],
   "source": [
    "StestC = evaluateScenes(rtf_descriptor, testSet)"
   ]
  },
  {
   "cell_type": "markdown",
   "metadata": {},
   "source": [
    "# Visualisation of scenes (elements of test set)"
   ]
  },
  {
   "cell_type": "code",
   "execution_count": null,
   "metadata": {
    "collapsed": false
   },
   "outputs": [],
   "source": [
    "compareWithTV(rtf_descriptor, \"bathroom_28\", 0.125, True)"
   ]
  },
  {
   "cell_type": "code",
   "execution_count": null,
   "metadata": {
    "collapsed": false,
    "scrolled": false
   },
   "outputs": [],
   "source": [
    "print(\"How many random scenes should be chosen for display? [4]\")\n",
    "n = int(getVal(\"4\"))\n",
    "for scene in np.random.permutation(testSet[\"scenes\"])[0:int(n)]:\n",
    "    visualizeScene(rtf_descriptor, scene, cascadeConfig=True, deltaSwitch=True);   "
   ]
  },
  {
   "cell_type": "code",
   "execution_count": null,
   "metadata": {
    "collapsed": true
   },
   "outputs": [],
   "source": []
  }
 ],
 "metadata": {
  "kernelspec": {
   "display_name": "Python 3",
   "language": "python",
   "name": "python3"
  },
  "language_info": {
   "codemirror_mode": {
    "name": "ipython",
    "version": 3
   },
   "file_extension": ".py",
   "mimetype": "text/x-python",
   "name": "python",
   "nbconvert_exporter": "python",
   "pygments_lexer": "ipython3",
   "version": "3.5.2"
  }
 },
 "nbformat": 4,
 "nbformat_minor": 2
}
