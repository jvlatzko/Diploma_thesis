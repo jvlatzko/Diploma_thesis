{
 "cells": [
  {
   "cell_type": "markdown",
   "metadata": {
    "deletable": true,
    "editable": true
   },
   "source": [
    "# Preparation"
   ]
  },
  {
   "cell_type": "code",
   "execution_count": 1,
   "metadata": {
    "collapsed": true,
    "deletable": true,
    "editable": true
   },
   "outputs": [],
   "source": [
    "import numpy as np\n",
    "import matplotlib.pyplot as plt\n",
    "from skimage import img_as_float\n",
    "from skimage.restoration import denoise_tv_chambolle\n",
    "import time\n",
    "plt.viridis()\n",
    "%matplotlib inline\n",
    "\n",
    "\n",
    "def lorentzian(Img, s = 50):\n",
    "    return np.log(1.0 + s * Img**2)\n",
    "\n",
    "def lorentzianLoss(Img, Ground, s = 50): \n",
    "    tImg = Img - Ground; \n",
    "    tImg -= np.mean(tImg); \n",
    "    return np.mean(np.log(1.0 + s*(tImg)**2))\n",
    "\n",
    "def getVal(default):\n",
    "    r = input().strip()\n",
    "    if r == '':\n",
    "        return default\n",
    "    else:\n",
    "        return r"
   ]
  },
  {
   "cell_type": "code",
   "execution_count": 2,
   "metadata": {
    "collapsed": true,
    "deletable": true,
    "editable": true
   },
   "outputs": [],
   "source": [
    "def getScenes(fname):\n",
    "    if (fname.find(\"rain\") > 0):\n",
    "        print(\"Training data is taboo for baseline approach! Returning scenes anyway. \")\n",
    "        scenes = [line.strip() for line in open(dataPath + \"train.txt\", 'r')]\n",
    "    elif (fname.find(\"rueT\") > 0):\n",
    "        scenes = [line.strip() for line in open(dataPath + \"trueTest.txt\", 'r')]\n",
    "    elif (fname.find(\"est\") > 0): \n",
    "        scenes = [line.strip() for line in open(dataPath + \"test.txt\", 'r')]\n",
    "    else: \n",
    "        print(\"Either validation set or test set should be chosen.\")\n",
    "        raise ValueError(\"Noncompliant input: must be \\\"Test\\\" or \\\"TrueTest\\\"\") \n",
    "    print(\"%i scenes\"%len(scenes))\n",
    "    return scenes; \n",
    "\n",
    "def loadScene(sceneName): \n",
    "    GT = np.loadtxt(\"%s/labels/%s.dlm\"%(dataPath, sceneName), delimiter='\\t') # Get GT from data folder\n",
    "    # GT DONE\n",
    "    allInputRTF = np.loadtxt(\"%s/images/%s.dlm\"%(dataPath, sceneName), delimiter='\\t') # Get INPT from data folder\n",
    "    formula = allInputRTF[:, 8:1800:9]\n",
    "    C0 = allInputRTF[:, 0:1800:9]\n",
    "    C1 = allInputRTF[:, 1:1800:9]\n",
    "    C2 = allInputRTF[:, 2:1800:9]\n",
    "    C3 = allInputRTF[:, 3:1800:9]\n",
    "    # INPUT DONE\n",
    "    return GT, formula, C0, C1, C2, C3"
   ]
  },
  {
   "cell_type": "code",
   "execution_count": 3,
   "metadata": {
    "collapsed": true,
    "deletable": true,
    "editable": true
   },
   "outputs": [],
   "source": [
    "def evaluateScenes(weight, sceneSet):\n",
    "    totVarLoss = [];\n",
    "    formLoss = []; \n",
    "    for scene in sceneSet:\n",
    "        gt, formula, C0, C1, C2, C3 = loadScene(scene); \n",
    "        formLoss.append(lorentzianLoss(gt, formula));\n",
    "        Dd = denoise_tv_chambolle(formula, weight, multichannel=False)\n",
    "        totVarLoss.append(lorentzianLoss(Dd, gt)); \n",
    "    #    print(LorentzianLoss(Dd, gt)); \n",
    "    print(\"Result for weight %f : %f\"%(weight, np.mean(totVarLoss))); \n",
    "    return np.mean(totVarLoss)\n",
    "\n",
    "# Little dataset. Can store all results in memory\n",
    "def totVarApplication(weights, sceneSet):\n",
    "    grid = np.zeros((len(weights), 2)); \n",
    "    grid[:, 0] = weights\n",
    "    G = np.ndarray((200, 200, len(sceneSet))); \n",
    "    D = G.copy(); \n",
    "    i = 0; \n",
    "    for scene in sceneSet: \n",
    "        gt, formula, C0, C1, C2, C3 = loadScene(scene); \n",
    "        G[:,:,i] = gt; \n",
    "        D[:,:,i] = formula; \n",
    "        i += 1; \n",
    "    \n",
    "    print(\"Data loaded. (%s passed)\"%(time.time() - t))\n",
    "    for i in range(len(weights)):\n",
    "        currLoss = 0.0; \n",
    "        for j in range(len(sceneSet)): \n",
    "            Dc = D[:,:,j]; \n",
    "            gt = G[:,:,j]; \n",
    "            Dd = denoise_tv_chambolle(Dc, weights[i], multichannel=False)\n",
    "            currLoss += lorentzianLoss(Dd, gt); \n",
    "        grid[i, 1] =  currLoss/len(sceneSet); \n",
    "        print(\"Result for weight %f : %f\"%(weights[i], grid[i,1])); \n",
    "    return grid; \n",
    "\n",
    "def totVarApplication_OLD(weights, sceneSet): \n",
    "    grid = np.zeros((len(weights), 2))\n",
    "    grid[:, 0] = weights\n",
    "    for i in range(len(weights)): \n",
    "        grid[i, 1] = evaluateScenes(weights[i], sceneSet)\n",
    "        print(\"Result for weight %f : %f\"%(weights[i], grid[i,1])); \n",
    "    return grid\n",
    "\n",
    "def determineSetLoss(sceneSet): \n",
    "    loss = []; \n",
    "    for scene in sceneSet:\n",
    "        gt, formula, C0, C1, C2, C3 = loadScene(scene); \n",
    "        loss.append(lorentzianLoss(formula, gt)); \n",
    "    return np.mean(loss); "
   ]
  },
  {
   "cell_type": "code",
   "execution_count": 4,
   "metadata": {
    "collapsed": false,
    "deletable": true,
    "editable": true
   },
   "outputs": [],
   "source": [
    "def visualizeResults(weight, scene): \n",
    "    gt, formula, C0, C1, C2, C3 = loadScene(scene);\n",
    "    inLoss = lorentzianLoss(formula, gt); \n",
    "    Dd = denoise_tv_chambolle(formula, weight, multichannel=False); \n",
    "    outLoss = lorentzianLoss(Dd, gt); \n",
    "    print(\"Loss before: @%f\\t after: @%f\"%(inLoss, outLoss)); \n",
    "    plt.figure(figsize=(14,3)); \n",
    "    plt.subplot(131); plt.imshow(formula); plt.axis('off'); plt.title(\"Baseline (%s)\"%float('%.5g'%(inLoss))); plt.colorbar(); \n",
    "    plt.subplot(132); plt.imshow(Dd); plt.axis('off'); plt.title(\"Total Variation %s (%s)\"%(float('%.3g'%(weight)), float('%.5g'%(outLoss)))); plt.colorbar(); \n",
    "    plt.subplot(133); plt.imshow(gt); plt.axis('off'); plt.title(\"Ground Truth %s\"%scene); plt.colorbar(); \n",
    "    plt.show()"
   ]
  },
  {
   "cell_type": "markdown",
   "metadata": {
    "deletable": true,
    "editable": true
   },
   "source": [
    "# Setup"
   ]
  },
  {
   "cell_type": "code",
   "execution_count": 5,
   "metadata": {
    "collapsed": false,
    "deletable": true,
    "editable": true
   },
   "outputs": [
    {
     "name": "stdout",
     "output_type": "stream",
     "text": [
      "Please enter path to data: \n",
      "\n",
      "21 scenes\n",
      "51 scenes\n"
     ]
    }
   ],
   "source": [
    "print(\"Please enter path to data: \")\n",
    "dataPath = getVal(\"depth_data/ToF-data/wholeset/\")\n",
    "\n",
    "validationScenes  = getScenes(\"Test\")\n",
    "testScenes = getScenes(\"TrueTest\")"
   ]
  },
  {
   "cell_type": "code",
   "execution_count": 6,
   "metadata": {
    "collapsed": false,
    "deletable": true,
    "editable": true
   },
   "outputs": [],
   "source": [
    "#validationLoss = determineSetLoss(validationScenes)\n",
    "validationLoss = 0.411809737421\n",
    "#testLoss = determineSetLoss(testScenes)\n",
    "testLoss = 0.409037355913"
   ]
  },
  {
   "cell_type": "markdown",
   "metadata": {
    "deletable": true,
    "editable": true
   },
   "source": [
    "# DENOISING PART"
   ]
  },
  {
   "cell_type": "markdown",
   "metadata": {
    "deletable": true,
    "editable": true
   },
   "source": [
    "# Calibrate TV parameter on validation set"
   ]
  },
  {
   "cell_type": "code",
   "execution_count": 7,
   "metadata": {
    "collapsed": false,
    "deletable": true,
    "editable": true,
    "scrolled": false
   },
   "outputs": [
    {
     "name": "stdout",
     "output_type": "stream",
     "text": [
      "Loss before: @0.411809737421\n",
      "\n",
      "\n",
      "Data loaded. (4.4448065757751465 passed)\n",
      "Result for weight 0.001000 : 0.411380\n",
      "Result for weight 0.011000 : 0.408859\n",
      "Result for weight 0.021000 : 0.407303\n",
      "Result for weight 0.031000 : 0.406119\n",
      "Result for weight 0.041000 : 0.405285\n",
      "Result for weight 0.051000 : 0.404789\n",
      "Result for weight 0.061000 : 0.403938\n",
      "Result for weight 0.071000 : 0.403321\n",
      "Result for weight 0.081000 : 0.402887\n",
      "Result for weight 0.091000 : 0.402941\n",
      "Result for weight 0.101000 : 0.402297\n",
      "Result for weight 0.111000 : 0.402122\n",
      "Result for weight 0.121000 : 0.401601\n",
      "Result for weight 0.131000 : 0.402124\n",
      "Result for weight 0.141000 : 0.402067\n",
      "Result for weight 0.151000 : 0.401791\n",
      "Result for weight 0.161000 : 0.401985\n",
      "Result for weight 0.171000 : 0.402230\n",
      "Result for weight 0.181000 : 0.402443\n",
      "Result for weight 0.191000 : 0.403474\n",
      "Result for weight 0.201000 : 0.403556\n",
      "Result for weight 0.211000 : 0.403831\n",
      "Result for weight 0.221000 : 0.404084\n",
      "Result for weight 0.231000 : 0.404248\n",
      "Result for weight 0.241000 : 0.404611\n",
      "Result for weight 0.251000 : 0.403601\n",
      "Result for weight 0.261000 : 0.403899\n",
      "Result for weight 0.271000 : 0.403139\n",
      "Result for weight 0.281000 : 0.403463\n",
      "Result for weight 0.291000 : 0.403248\n",
      "Result for weight 0.301000 : 0.403563\n",
      "Result for weight 0.311000 : 0.403851\n",
      "Result for weight 0.321000 : 0.404413\n",
      "Result for weight 0.331000 : 0.404640\n",
      "Result for weight 0.341000 : 0.404963\n",
      "Result for weight 0.351000 : 0.405218\n",
      "Result for weight 0.361000 : 0.407757\n",
      "Result for weight 0.371000 : 0.408204\n",
      "Result for weight 0.381000 : 0.408486\n",
      "Result for weight 0.391000 : 0.408889\n",
      "DONE\n",
      "(after 29.746194 s)\n"
     ]
    }
   ],
   "source": [
    "minWeight        = 0.001; \n",
    "maxWeight        = 0.4; \n",
    "step             = 0.01; # checked stepsize 0.001, value is solid 0.125. Curious jump when moving to 0.126 though\n",
    "weightRange     = np.arange(minWeight, maxWeight, step);\n",
    "#totalFormLoss   = []; \n",
    "\n",
    "t = time.time()\n",
    "print(\"Loss before: @%s\\n\\n\"%validationLoss)\n",
    "lossTV = totVarApplication(weightRange, validationScenes); \n",
    "\n",
    "print(\"DONE\")\n",
    "print(\"(after %f s)\"%(time.time() - t)); "
   ]
  },
  {
   "cell_type": "code",
   "execution_count": 9,
   "metadata": {
    "collapsed": false,
    "deletable": true,
    "editable": true
   },
   "outputs": [
    {
     "name": "stdout",
     "output_type": "stream",
     "text": [
      "==========\n",
      "OLD METHOD\n",
      "==========\n",
      "Loss before: @0.411809737421\n",
      "\n",
      "\n",
      "Result for weight 0.001000 : 0.411380\n",
      "Result for weight 0.001000 : 0.411380\n",
      "Result for weight 0.011000 : 0.408859\n",
      "Result for weight 0.011000 : 0.408859\n",
      "Result for weight 0.021000 : 0.407303\n",
      "Result for weight 0.021000 : 0.407303\n",
      "Result for weight 0.031000 : 0.406119\n",
      "Result for weight 0.031000 : 0.406119\n",
      "Result for weight 0.041000 : 0.405285\n",
      "Result for weight 0.041000 : 0.405285\n",
      "Result for weight 0.051000 : 0.404789\n",
      "Result for weight 0.051000 : 0.404789\n",
      "Result for weight 0.061000 : 0.403938\n",
      "Result for weight 0.061000 : 0.403938\n",
      "Result for weight 0.071000 : 0.403321\n",
      "Result for weight 0.071000 : 0.403321\n",
      "Result for weight 0.081000 : 0.402887\n",
      "Result for weight 0.081000 : 0.402887\n",
      "Result for weight 0.091000 : 0.402941\n",
      "Result for weight 0.091000 : 0.402941\n",
      "Result for weight 0.101000 : 0.402297\n",
      "Result for weight 0.101000 : 0.402297\n",
      "Result for weight 0.111000 : 0.402122\n",
      "Result for weight 0.111000 : 0.402122\n",
      "Result for weight 0.121000 : 0.401601\n",
      "Result for weight 0.121000 : 0.401601\n",
      "Result for weight 0.131000 : 0.402124\n",
      "Result for weight 0.131000 : 0.402124\n",
      "Result for weight 0.141000 : 0.402067\n",
      "Result for weight 0.141000 : 0.402067\n",
      "Result for weight 0.151000 : 0.401791\n",
      "Result for weight 0.151000 : 0.401791\n",
      "Result for weight 0.161000 : 0.401985\n",
      "Result for weight 0.161000 : 0.401985\n",
      "Result for weight 0.171000 : 0.402230\n",
      "Result for weight 0.171000 : 0.402230\n",
      "Result for weight 0.181000 : 0.402443\n",
      "Result for weight 0.181000 : 0.402443\n",
      "Result for weight 0.191000 : 0.403474\n",
      "Result for weight 0.191000 : 0.403474\n",
      "Result for weight 0.201000 : 0.403556\n",
      "Result for weight 0.201000 : 0.403556\n",
      "Result for weight 0.211000 : 0.403831\n",
      "Result for weight 0.211000 : 0.403831\n",
      "Result for weight 0.221000 : 0.404084\n",
      "Result for weight 0.221000 : 0.404084\n",
      "Result for weight 0.231000 : 0.404248\n",
      "Result for weight 0.231000 : 0.404248\n",
      "Result for weight 0.241000 : 0.404611\n",
      "Result for weight 0.241000 : 0.404611\n",
      "Result for weight 0.251000 : 0.403601\n",
      "Result for weight 0.251000 : 0.403601\n",
      "Result for weight 0.261000 : 0.403899\n",
      "Result for weight 0.261000 : 0.403899\n",
      "Result for weight 0.271000 : 0.403139\n",
      "Result for weight 0.271000 : 0.403139\n",
      "Result for weight 0.281000 : 0.403463\n",
      "Result for weight 0.281000 : 0.403463\n",
      "Result for weight 0.291000 : 0.403248\n",
      "Result for weight 0.291000 : 0.403248\n",
      "Result for weight 0.301000 : 0.403563\n",
      "Result for weight 0.301000 : 0.403563\n",
      "Result for weight 0.311000 : 0.403851\n",
      "Result for weight 0.311000 : 0.403851\n",
      "Result for weight 0.321000 : 0.404413\n",
      "Result for weight 0.321000 : 0.404413\n",
      "Result for weight 0.331000 : 0.404640\n",
      "Result for weight 0.331000 : 0.404640\n",
      "Result for weight 0.341000 : 0.404963\n",
      "Result for weight 0.341000 : 0.404963\n",
      "Result for weight 0.351000 : 0.405218\n",
      "Result for weight 0.351000 : 0.405218\n",
      "Result for weight 0.361000 : 0.407757\n",
      "Result for weight 0.361000 : 0.407757\n",
      "Result for weight 0.371000 : 0.408204\n",
      "Result for weight 0.371000 : 0.408204\n",
      "Result for weight 0.381000 : 0.408486\n",
      "Result for weight 0.381000 : 0.408486\n",
      "Result for weight 0.391000 : 0.408889\n",
      "Result for weight 0.391000 : 0.408889\n",
      "DONE\n",
      "(after 199.455809 s)\n"
     ]
    }
   ],
   "source": [
    "print(\"==========\\nOLD METHOD\\n==========\")\n",
    "t = time.time()\n",
    "print(\"Loss before: @%s\\n\\n\"%validationLoss)\n",
    "lossTV = totVarApplication_OLD(weightRange, validationScenes); \n",
    "\n",
    "print(\"DONE\")\n",
    "print(\"(after %f s)\"%(time.time() - t)); "
   ]
  },
  {
   "cell_type": "code",
   "execution_count": 8,
   "metadata": {
    "collapsed": false,
    "deletable": true,
    "editable": true
   },
   "outputs": [
    {
     "name": "stdout",
     "output_type": "stream",
     "text": [
      "Minimum loss @0.401600729016 using filter value 0.121000\n"
     ]
    }
   ],
   "source": [
    "#lossTV\n",
    "print(\"Minimum loss @%s using filter value %f\"%(np.min(lossTV[:,1]), weightRange[np.argmin(lossTV[:,1])]))"
   ]
  },
  {
   "cell_type": "code",
   "execution_count": 10,
   "metadata": {
    "collapsed": false,
    "deletable": true,
    "editable": true
   },
   "outputs": [
    {
     "data": {
      "image/png": "[encoded data removed]",
      "text/plain": [
       "<matplotlib.figure.Figure at 0x7ff8865087f0>"
      ]
     },
     "metadata": {},
     "output_type": "display_data"
    }
   ],
   "source": [
    "plt.plot(lossTV[:,0], lossTV[:, 1]); \n",
    "plt.ylim([0.401, 0.413]); \n",
    "plt.show()"
   ]
  },
  {
   "cell_type": "code",
   "execution_count": null,
   "metadata": {
    "collapsed": false,
    "deletable": true,
    "editable": true
   },
   "outputs": [],
   "source": [
    "print(\"Choose filter value? [0.125]\")\n",
    "weight = float(getVal(\"0.125\"))\n",
    "print(\"How many random scenes should be chosen for display? [4]\")\n",
    "n = int(getVal(\"4\"))\n",
    "for scene in np.random.permutation(validationScenes)[0:int(n)]:\n",
    "    visualizeResults(weight, scene);   "
   ]
  },
  {
   "cell_type": "markdown",
   "metadata": {
    "deletable": true,
    "editable": true
   },
   "source": [
    "# Evaluate TV denoising performance on testset"
   ]
  },
  {
   "cell_type": "code",
   "execution_count": null,
   "metadata": {
    "collapsed": false,
    "deletable": true,
    "editable": true
   },
   "outputs": [],
   "source": [
    "print(\"Choose filter value? [0.125]\")\n",
    "weight = float(getVal(\"0.125\"))\n",
    "\n",
    "\n",
    "t = time.time()\n",
    "print(\"Loss before: @%s\"%testLoss)\n",
    "lossTVtest = totVarApplication(np.arange(weight, weight+0.1, 1), testScenes); \n",
    "print(\"Loss after: @%s\"%lossTVtest[0, 1])\n",
    "print(\"DONE\")\n",
    "print(\"(after %f s)\"%(time.time() - t)); "
   ]
  },
  {
   "cell_type": "code",
   "execution_count": null,
   "metadata": {
    "collapsed": false,
    "deletable": true,
    "editable": true
   },
   "outputs": [],
   "source": [
    "print(\"How many random scenes should be chosen for display? [3]\")\n",
    "n = int(getVal(\"3\"))\n",
    "for scene in np.random.permutation(testScenes)[0:int(n)]:\n",
    "    visualizeResults(weight, scene);   "
   ]
  },
  {
   "cell_type": "code",
   "execution_count": null,
   "metadata": {
    "collapsed": true,
    "deletable": true,
    "editable": true
   },
   "outputs": [],
   "source": []
  }
 ],
 "metadata": {
  "kernelspec": {
   "display_name": "Python 3",
   "language": "python",
   "name": "python3"
  },
  "language_info": {
   "codemirror_mode": {
    "name": "ipython",
    "version": 3
   },
   "file_extension": ".py",
   "mimetype": "text/x-python",
   "name": "python",
   "nbconvert_exporter": "python",
   "pygments_lexer": "ipython3",
   "version": "3.5.2"
  }
 },
 "nbformat": 4,
 "nbformat_minor": 2
}
